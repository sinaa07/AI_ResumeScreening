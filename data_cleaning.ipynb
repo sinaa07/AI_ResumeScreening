{
 "cells": [
  {
   "cell_type": "code",
   "execution_count": 2,
   "metadata": {},
   "outputs": [
    {
     "name": "stdout",
     "output_type": "stream",
     "text": [
      "All libraries are working fine! ✅\n",
      "<class 'pandas.core.frame.DataFrame'>\n",
      "RangeIndex: 3703 entries, 0 to 3702\n",
      "Data columns (total 3 columns):\n",
      " #   Column    Non-Null Count  Dtype \n",
      "---  ------    --------------  ----- \n",
      " 0   ID        3703 non-null   int64 \n",
      " 1   Category  3703 non-null   object\n",
      " 2   Resume    3703 non-null   object\n",
      "dtypes: int64(1), object(2)\n",
      "memory usage: 86.9+ KB\n"
     ]
    }
   ],
   "source": [
    "import numpy as np\n",
    "import pandas as pd\n",
    "import spacy\n",
    "import pdfplumber \n",
    "import nltk\n",
    "import sklearn\n",
    "import llama_cpp\n",
    "\n",
    "print(\"All libraries are working fine! ✅\")\n",
    "df = pd.read_csv(\"resume_dataset.csv\")\n",
    "df.head()\n",
    "df2 = pd.read_csv(\"Resume.csv\")\n",
    "df2.head()\n",
    "df2 = df2.drop(columns=[\"Resume_html\"])\n",
    "df2 = df2.rename(columns={\"Resume_str\":\"Resume\"})\n",
    "df2.head()\n",
    "final_data = pd.concat([df,df2],ignore_index=True)\n",
    "final_data = final_data.reset_index(drop=True)\n",
    "final_data.head()\n",
    "final_data.info()\n"
   ]
  },
  {
   "cell_type": "code",
   "execution_count": 3,
   "metadata": {},
   "outputs": [
    {
     "data": {
      "text/plain": [
       "array(['HR', 'Designing', 'Managment', 'Information Technology',\n",
       "       'Education', 'Advocate', 'Business Development',\n",
       "       'Health & Fitness', 'Agricultural', 'BPO', 'Sales', 'Consultant',\n",
       "       'Digital Media', 'Automobile', 'Food & Beverages', 'Finance',\n",
       "       'Apparel', 'Engineering', 'Accountant', 'Building & Construction',\n",
       "       'Architects', 'Public Relations', 'Banking', 'Arts', 'Aviation',\n",
       "       'DESIGNER', 'INFORMATION-TECHNOLOGY', 'TEACHER', 'ADVOCATE',\n",
       "       'BUSINESS-DEVELOPMENT', 'HEALTHCARE', 'FITNESS', 'AGRICULTURE',\n",
       "       'SALES', 'CONSULTANT', 'DIGITAL-MEDIA', 'AUTOMOBILE', 'CHEF',\n",
       "       'FINANCE', 'APPAREL', 'ENGINEERING', 'ACCOUNTANT', 'CONSTRUCTION',\n",
       "       'PUBLIC-RELATIONS', 'BANKING', 'ARTS', 'AVIATION'], dtype=object)"
      ]
     },
     "execution_count": 3,
     "metadata": {},
     "output_type": "execute_result"
    }
   ],
   "source": [
    "final_data[\"Category\"].unique()"
   ]
  },
  {
   "cell_type": "code",
   "execution_count": 4,
   "metadata": {},
   "outputs": [
    {
     "data": {
      "text/html": [
       "<div>\n",
       "<style scoped>\n",
       "    .dataframe tbody tr th:only-of-type {\n",
       "        vertical-align: middle;\n",
       "    }\n",
       "\n",
       "    .dataframe tbody tr th {\n",
       "        vertical-align: top;\n",
       "    }\n",
       "\n",
       "    .dataframe thead th {\n",
       "        text-align: right;\n",
       "    }\n",
       "</style>\n",
       "<table border=\"1\" class=\"dataframe\">\n",
       "  <thead>\n",
       "    <tr style=\"text-align: right;\">\n",
       "      <th></th>\n",
       "      <th>ID</th>\n",
       "      <th>Category</th>\n",
       "      <th>Resume</th>\n",
       "    </tr>\n",
       "  </thead>\n",
       "  <tbody>\n",
       "    <tr>\n",
       "      <th>0</th>\n",
       "      <td>167</td>\n",
       "      <td>Information Technology</td>\n",
       "      <td>b'RESUME\\nAJITHA SHENOY .K.B,\\nPhD student (Co...</td>\n",
       "    </tr>\n",
       "    <tr>\n",
       "      <th>1</th>\n",
       "      <td>168</td>\n",
       "      <td>Information Technology</td>\n",
       "      <td>b'Mason\\t\\r \\xc2\\xa0Silber\\t\\r \\xc2\\xa0\\n6595\\...</td>\n",
       "    </tr>\n",
       "    <tr>\n",
       "      <th>2</th>\n",
       "      <td>169</td>\n",
       "      <td>Information Technology</td>\n",
       "      <td>b'Pramod XXXX\\nMobile: +91-99********\\n\\nE-mai...</td>\n",
       "    </tr>\n",
       "    <tr>\n",
       "      <th>3</th>\n",
       "      <td>170</td>\n",
       "      <td>Information Technology</td>\n",
       "      <td>b\"Harry M. Rohrer\\n3748 Bee Street\\nGrand Rapi...</td>\n",
       "    </tr>\n",
       "    <tr>\n",
       "      <th>4</th>\n",
       "      <td>171</td>\n",
       "      <td>Information Technology</td>\n",
       "      <td>b\"Wilson Kunnan Jose\\nSr. Consultant, QA\\n\\nSu...</td>\n",
       "    </tr>\n",
       "  </tbody>\n",
       "</table>\n",
       "</div>"
      ],
      "text/plain": [
       "    ID                Category  \\\n",
       "0  167  Information Technology   \n",
       "1  168  Information Technology   \n",
       "2  169  Information Technology   \n",
       "3  170  Information Technology   \n",
       "4  171  Information Technology   \n",
       "\n",
       "                                              Resume  \n",
       "0  b'RESUME\\nAJITHA SHENOY .K.B,\\nPhD student (Co...  \n",
       "1  b'Mason\\t\\r \\xc2\\xa0Silber\\t\\r \\xc2\\xa0\\n6595\\...  \n",
       "2  b'Pramod XXXX\\nMobile: +91-99********\\n\\nE-mai...  \n",
       "3  b\"Harry M. Rohrer\\n3748 Bee Street\\nGrand Rapi...  \n",
       "4  b\"Wilson Kunnan Jose\\nSr. Consultant, QA\\n\\nSu...  "
      ]
     },
     "execution_count": 4,
     "metadata": {},
     "output_type": "execute_result"
    }
   ],
   "source": [
    "tech_categories = {\"Information Technology\", \"INFORMATION-TECHNOLOGY\", \"Engineering\", \"ENGINEERING\"}\n",
    "\n",
    "# Filter final_data to keep only tech-related resumes\n",
    "final_data = final_data[final_data[\"Category\"].isin(tech_categories)].reset_index(drop=True)\n",
    "final_data.head()"
   ]
  },
  {
   "cell_type": "code",
   "execution_count": 5,
   "metadata": {},
   "outputs": [
    {
     "name": "stdout",
     "output_type": "stream",
     "text": [
      "ID          0\n",
      "Category    0\n",
      "Resume      0\n",
      "dtype: int64\n",
      "0\n"
     ]
    }
   ],
   "source": [
    "#checking missing and duplicated values\n",
    "print(final_data.isnull().sum())\n",
    "print(final_data.duplicated().sum())"
   ]
  },
  {
   "cell_type": "code",
   "execution_count": 6,
   "metadata": {},
   "outputs": [
    {
     "data": {
      "text/html": [
       "<div>\n",
       "<style scoped>\n",
       "    .dataframe tbody tr th:only-of-type {\n",
       "        vertical-align: middle;\n",
       "    }\n",
       "\n",
       "    .dataframe tbody tr th {\n",
       "        vertical-align: top;\n",
       "    }\n",
       "\n",
       "    .dataframe thead th {\n",
       "        text-align: right;\n",
       "    }\n",
       "</style>\n",
       "<table border=\"1\" class=\"dataframe\">\n",
       "  <thead>\n",
       "    <tr style=\"text-align: right;\">\n",
       "      <th></th>\n",
       "      <th>ID</th>\n",
       "      <th>Category</th>\n",
       "      <th>Resume</th>\n",
       "      <th>cleaned_resume</th>\n",
       "    </tr>\n",
       "  </thead>\n",
       "  <tbody>\n",
       "    <tr>\n",
       "      <th>0</th>\n",
       "      <td>167</td>\n",
       "      <td>Information Technology</td>\n",
       "      <td>b'RESUME\\nAJITHA SHENOY .K.B,\\nPhD student (Co...</td>\n",
       "      <td>resume ajitha shenoy kb phd student computer s...</td>\n",
       "    </tr>\n",
       "    <tr>\n",
       "      <th>1</th>\n",
       "      <td>168</td>\n",
       "      <td>Information Technology</td>\n",
       "      <td>b'Mason\\t\\r \\xc2\\xa0Silber\\t\\r \\xc2\\xa0\\n6595\\...</td>\n",
       "      <td>masontr xc2xa0silbertr xc2xa0 6595tr xc2xa0ler...</td>\n",
       "    </tr>\n",
       "    <tr>\n",
       "      <th>2</th>\n",
       "      <td>169</td>\n",
       "      <td>Information Technology</td>\n",
       "      <td>b'Pramod XXXX\\nMobile: +91-99********\\n\\nE-mai...</td>\n",
       "      <td>pramod xxxx mobile 9199 email pramodgmailcom c...</td>\n",
       "    </tr>\n",
       "    <tr>\n",
       "      <th>3</th>\n",
       "      <td>170</td>\n",
       "      <td>Information Technology</td>\n",
       "      <td>b\"Harry M. Rohrer\\n3748 Bee Street\\nGrand Rapi...</td>\n",
       "      <td>harry m rohrer 3748 bee street grand rapids mi...</td>\n",
       "    </tr>\n",
       "    <tr>\n",
       "      <th>4</th>\n",
       "      <td>171</td>\n",
       "      <td>Information Technology</td>\n",
       "      <td>b\"Wilson Kunnan Jose\\nSr. Consultant, QA\\n\\nSu...</td>\n",
       "      <td>wilson kunnan jose sr consultant qa summary xe...</td>\n",
       "    </tr>\n",
       "  </tbody>\n",
       "</table>\n",
       "</div>"
      ],
      "text/plain": [
       "    ID                Category  \\\n",
       "0  167  Information Technology   \n",
       "1  168  Information Technology   \n",
       "2  169  Information Technology   \n",
       "3  170  Information Technology   \n",
       "4  171  Information Technology   \n",
       "\n",
       "                                              Resume  \\\n",
       "0  b'RESUME\\nAJITHA SHENOY .K.B,\\nPhD student (Co...   \n",
       "1  b'Mason\\t\\r \\xc2\\xa0Silber\\t\\r \\xc2\\xa0\\n6595\\...   \n",
       "2  b'Pramod XXXX\\nMobile: +91-99********\\n\\nE-mai...   \n",
       "3  b\"Harry M. Rohrer\\n3748 Bee Street\\nGrand Rapi...   \n",
       "4  b\"Wilson Kunnan Jose\\nSr. Consultant, QA\\n\\nSu...   \n",
       "\n",
       "                                      cleaned_resume  \n",
       "0  resume ajitha shenoy kb phd student computer s...  \n",
       "1  masontr xc2xa0silbertr xc2xa0 6595tr xc2xa0ler...  \n",
       "2  pramod xxxx mobile 9199 email pramodgmailcom c...  \n",
       "3  harry m rohrer 3748 bee street grand rapids mi...  \n",
       "4  wilson kunnan jose sr consultant qa summary xe...  "
      ]
     },
     "execution_count": 6,
     "metadata": {},
     "output_type": "execute_result"
    }
   ],
   "source": [
    "import re\n",
    "def clean_data(data):\n",
    "    if isinstance(data, bytes):  \n",
    "        data = data.decode(\"utf-8\", \"ignore\")  # Convert bytes to string\n",
    "        \n",
    "    if not isinstance(data, str):  \n",
    "        data = str(data)\n",
    "    \n",
    "    data = data.replace(\"\\n\", \" \").replace(\"\\\\n\", \" \")\n",
    "    data = data.replace(\"b'\", \"\").replace(\"b\\\"\", \"\")\n",
    "    data = data.lower().strip() #lowercase and stripping whitespaces\n",
    "    data = re.sub(r'\\s+', ' ', data) #extra spaces and newline\n",
    "    data = re.sub(r'[^a-zA-Z0-9\\s]', '', data) #special characters\n",
    "    return data\n",
    "\n",
    "final_data[\"cleaned_resume\"] = final_data[\"Resume\"].apply(clean_data)\n",
    "\n",
    "final_data.head()\n",
    "    "
   ]
  },
  {
   "cell_type": "code",
   "execution_count": 7,
   "metadata": {},
   "outputs": [
    {
     "name": "stdout",
     "output_type": "stream",
     "text": [
      "                                      cleaned_resume  \\\n",
      "0  resume ajitha shenoy kb phd student computer s...   \n",
      "1  masontr xc2xa0silbertr xc2xa0 6595tr xc2xa0ler...   \n",
      "2  pramod xxxx mobile 9199 email pramodgmailcom c...   \n",
      "3  harry m rohrer 3748 bee street grand rapids mi...   \n",
      "4  wilson kunnan jose sr consultant qa summary xe...   \n",
      "\n",
      "                                    tokenized_resume  \n",
      "0  [resume, ajitha, shenoy, kb, phd, student, com...  \n",
      "1  [masontr, xc2xa0silbertr, xc2xa0, 6595tr, xc2x...  \n",
      "2  [pramod, xxxx, mobile, 9199, email, pramodgmai...  \n",
      "3  [harry, m, rohrer, 3748, bee, street, grand, r...  \n",
      "4  [wilson, kunnan, jose, sr, consultant, qa, sum...  \n"
     ]
    }
   ],
   "source": [
    "import spacy\n",
    "nlp = spacy.load(\"en_core_web_sm\") #en lang model\n",
    "#tokenisation\n",
    "final_data[\"tokenized_resume\"] = final_data[\"cleaned_resume\"].apply(lambda x: [token.text for token in nlp(x)])\n",
    "print(final_data[[\"cleaned_resume\", \"tokenized_resume\"]].head())"
   ]
  },
  {
   "cell_type": "code",
   "execution_count": 8,
   "metadata": {},
   "outputs": [
    {
     "name": "stdout",
     "output_type": "stream",
     "text": [
      "                                    tokenized_resume  \\\n",
      "0  [resume, ajitha, shenoy, kb, phd, student, com...   \n",
      "1  [masontr, xc2xa0silbertr, xc2xa0, 6595tr, xc2x...   \n",
      "2  [pramod, xxxx, mobile, 9199, email, pramodgmai...   \n",
      "3  [harry, m, rohrer, 3748, bee, street, grand, r...   \n",
      "4  [wilson, kunnan, jose, sr, consultant, qa, sum...   \n",
      "\n",
      "                                     filtered_tokens  \n",
      "0  [resume, ajitha, shenoy, kb, phd, student, com...  \n",
      "1  [masontr, xc2xa0silbertr, xc2xa0, 6595tr, xc2x...  \n",
      "2  [pramod, xxxx, mobile, 9199, email, pramodgmai...  \n",
      "3  [harry, rohrer, 3748, bee, street, grand, rapi...  \n",
      "4  [wilson, kunnan, jose, sr, consultant, qa, sum...  \n"
     ]
    },
    {
     "name": "stderr",
     "output_type": "stream",
     "text": [
      "[nltk_data] Downloading package stopwords to\n",
      "[nltk_data]     /Users/aarushi/nltk_data...\n",
      "[nltk_data]   Package stopwords is already up-to-date!\n"
     ]
    }
   ],
   "source": [
    "#stopwords\n",
    "import nltk \n",
    "from nltk.corpus import stopwords\n",
    "nltk.download(\"stopwords\")\n",
    "stop_words = set(stopwords.words(\"english\"))\n",
    "def filter_stopwords(tokens):\n",
    "    return [word for word in tokens if word not in stop_words]\n",
    "\n",
    "final_data[\"filtered_tokens\"] = final_data[\"tokenized_resume\"].apply(filter_stopwords)\n",
    "print(final_data[[\"tokenized_resume\", \"filtered_tokens\"]].head())"
   ]
  },
  {
   "cell_type": "code",
   "execution_count": 9,
   "metadata": {},
   "outputs": [],
   "source": [
    "#defining skill set\n",
    "skill_set = {\n",
    "    # Programming Languages\n",
    "    \"python\", \"java\", \"javascript\", \"c\", \"c++\", \"c#\", \"go\", \"ruby\", \"typescript\", \"php\", \"swift\", \"kotlin\", \"r\", \"perl\",\n",
    "    \n",
    "    # Web Development\n",
    "    \"html\", \"css\", \"sass\", \"less\", \"react\", \"vue\", \"angular\", \"next.js\", \"nuxt.js\", \"svelte\", \"jquery\",\n",
    "\n",
    "    # Backend & APIs\n",
    "    \"node.js\", \"express\", \"django\", \"flask\", \"spring boot\", \"fastapi\", \"laravel\", \"ruby on rails\",\n",
    "    \"rest api\", \"graphql\", \"grpc\", \"microservices\", \"soap\",\n",
    "\n",
    "    # Databases & Storage\n",
    "    \"mysql\", \"postgresql\", \"sqlite\", \"mongodb\", \"cassandra\", \"redis\", \"firebase\", \"dynamodb\", \"elasticsearch\",\n",
    "    \"neo4j\", \"oracle\", \"sql server\", \"couchdb\", \"bigquery\",\n",
    "\n",
    "    # DevOps & Cloud\n",
    "    \"docker\", \"kubernetes\", \"aws\", \"azure\", \"gcp\", \"terraform\", \"ansible\", \"jenkins\", \"github actions\",\n",
    "    \"kafka\", \"rabbitmq\", \"nginx\", \"apache\", \"cloud functions\", \"serverless\", \"ci/cd\", \"helm\", \"istio\",\n",
    "\n",
    "    # Data Science & ML\n",
    "    \"machine learning\", \"deep learning\", \"pandas\", \"numpy\", \"scikit-learn\", \"tensorflow\", \"pytorch\",\n",
    "    \"opencv\", \"huggingface\", \"nltk\", \"spacy\", \"transformers\", \"matplotlib\", \"seaborn\", \"xgboost\",\n",
    "\n",
    "    # Mobile Development\n",
    "    \"android\", \"ios\", \"flutter\", \"react native\", \"swift\", \"kotlin\", \"cordova\", \"xamarin\",\n",
    "\n",
    "    # Cybersecurity\n",
    "    \"penetration testing\", \"burpsuite\", \"wireshark\", \"nmap\", \"metasploit\", \"osint\", \"siem\",\n",
    "    \"owasp\", \"reverse engineering\", \"malware analysis\",\n",
    "\n",
    "    # Other Technologies & Tools\n",
    "    \"git\", \"github\", \"gitlab\", \"bitbucket\", \"jira\", \"confluence\", \"agile\", \"scrum\", \"trello\", \"kanban\",\n",
    "    \"vim\", \"bash\", \"powershell\", \"zsh\", \"linux\", \"windows\", \"macos\"\n",
    "}\n",
    "degree_set= {\"bachelor\", \"master\", \"phd\", \"b.tech\", \"b.sc\", \"m.tech\", \"m.sc\", \"mba\"}"
   ]
  },
  {
   "cell_type": "code",
   "execution_count": 10,
   "metadata": {},
   "outputs": [],
   "source": [
    "def extract_skills(resume):\n",
    "    matched_skills = [skill for skill in skill_set if skill in resume] \n",
    "    return list(set(matched_skills))  \n",
    "\n",
    "def extract_experience(resume):\n",
    "    match = re.search(r'(\\d+)\\s+years?', resume)  # Look for \"X years\"\n",
    "    return int(match.group(1)) if match else 0 \n",
    "\n",
    "def extract_education(resume):\n",
    "    words = resume.split()\n",
    "    found_degrees = [word for word in words if word.lower() in degree_set]\n",
    "    return found_degrees if found_degrees else [\"Not Mentioned\"]\n",
    "\n",
    "\n",
    "final_data[\"extracted_skills\"] = final_data[\"cleaned_resume\"].apply(extract_skills)\n",
    "final_data[\"experience_years\"] = final_data[\"cleaned_resume\"].apply(extract_experience)\n",
    "final_data[\"education\"] = final_data[\"cleaned_resume\"].apply(extract_education)\n"
   ]
  },
  {
   "cell_type": "code",
   "execution_count": 11,
   "metadata": {},
   "outputs": [
    {
     "data": {
      "text/html": [
       "<div>\n",
       "<style scoped>\n",
       "    .dataframe tbody tr th:only-of-type {\n",
       "        vertical-align: middle;\n",
       "    }\n",
       "\n",
       "    .dataframe tbody tr th {\n",
       "        vertical-align: top;\n",
       "    }\n",
       "\n",
       "    .dataframe thead th {\n",
       "        text-align: right;\n",
       "    }\n",
       "</style>\n",
       "<table border=\"1\" class=\"dataframe\">\n",
       "  <thead>\n",
       "    <tr style=\"text-align: right;\">\n",
       "      <th></th>\n",
       "      <th>ID</th>\n",
       "      <th>Category</th>\n",
       "      <th>Resume</th>\n",
       "      <th>cleaned_resume</th>\n",
       "      <th>tokenized_resume</th>\n",
       "      <th>filtered_tokens</th>\n",
       "      <th>extracted_skills</th>\n",
       "      <th>experience_years</th>\n",
       "      <th>education</th>\n",
       "    </tr>\n",
       "  </thead>\n",
       "  <tbody>\n",
       "    <tr>\n",
       "      <th>0</th>\n",
       "      <td>167</td>\n",
       "      <td>Information Technology</td>\n",
       "      <td>b'RESUME\\nAJITHA SHENOY .K.B,\\nPhD student (Co...</td>\n",
       "      <td>resume ajitha shenoy kb phd student computer s...</td>\n",
       "      <td>[resume, ajitha, shenoy, kb, phd, student, com...</td>\n",
       "      <td>[resume, ajitha, shenoy, kb, phd, student, com...</td>\n",
       "      <td>[java, go, linux, r, c, oracle, windows]</td>\n",
       "      <td>4</td>\n",
       "      <td>[phd, phd]</td>\n",
       "    </tr>\n",
       "    <tr>\n",
       "      <th>1</th>\n",
       "      <td>168</td>\n",
       "      <td>Information Technology</td>\n",
       "      <td>b'Mason\\t\\r \\xc2\\xa0Silber\\t\\r \\xc2\\xa0\\n6595\\...</td>\n",
       "      <td>masontr xc2xa0silbertr xc2xa0 6595tr xc2xa0ler...</td>\n",
       "      <td>[masontr, xc2xa0silbertr, xc2xa0, 6595tr, xc2x...</td>\n",
       "      <td>[masontr, xc2xa0silbertr, xc2xa0, 6595tr, xc2x...</td>\n",
       "      <td>[java, go, python, django, r, ios, c]</td>\n",
       "      <td>0</td>\n",
       "      <td>[Not Mentioned]</td>\n",
       "    </tr>\n",
       "    <tr>\n",
       "      <th>2</th>\n",
       "      <td>169</td>\n",
       "      <td>Information Technology</td>\n",
       "      <td>b'Pramod XXXX\\nMobile: +91-99********\\n\\nE-mai...</td>\n",
       "      <td>pramod xxxx mobile 9199 email pramodgmailcom c...</td>\n",
       "      <td>[pramod, xxxx, mobile, 9199, email, pramodgmai...</td>\n",
       "      <td>[pramod, xxxx, mobile, 9199, email, pramodgmai...</td>\n",
       "      <td>[html, java, go, javascript, css, r, mysql, c,...</td>\n",
       "      <td>5</td>\n",
       "      <td>[Not Mentioned]</td>\n",
       "    </tr>\n",
       "    <tr>\n",
       "      <th>3</th>\n",
       "      <td>170</td>\n",
       "      <td>Information Technology</td>\n",
       "      <td>b\"Harry M. Rohrer\\n3748 Bee Street\\nGrand Rapi...</td>\n",
       "      <td>harry m rohrer 3748 bee street grand rapids mi...</td>\n",
       "      <td>[harry, m, rohrer, 3748, bee, street, grand, r...</td>\n",
       "      <td>[harry, rohrer, 3748, bee, street, grand, rapi...</td>\n",
       "      <td>[html, php, jquery, css, r, mysql, c, agile]</td>\n",
       "      <td>0</td>\n",
       "      <td>[Not Mentioned]</td>\n",
       "    </tr>\n",
       "    <tr>\n",
       "      <th>4</th>\n",
       "      <td>171</td>\n",
       "      <td>Information Technology</td>\n",
       "      <td>b\"Wilson Kunnan Jose\\nSr. Consultant, QA\\n\\nSu...</td>\n",
       "      <td>wilson kunnan jose sr consultant qa summary xe...</td>\n",
       "      <td>[wilson, kunnan, jose, sr, consultant, qa, sum...</td>\n",
       "      <td>[wilson, kunnan, jose, sr, consultant, qa, sum...</td>\n",
       "      <td>[aws, apache, html, php, java, go, gcp, javasc...</td>\n",
       "      <td>13</td>\n",
       "      <td>[bachelor]</td>\n",
       "    </tr>\n",
       "  </tbody>\n",
       "</table>\n",
       "</div>"
      ],
      "text/plain": [
       "    ID                Category  \\\n",
       "0  167  Information Technology   \n",
       "1  168  Information Technology   \n",
       "2  169  Information Technology   \n",
       "3  170  Information Technology   \n",
       "4  171  Information Technology   \n",
       "\n",
       "                                              Resume  \\\n",
       "0  b'RESUME\\nAJITHA SHENOY .K.B,\\nPhD student (Co...   \n",
       "1  b'Mason\\t\\r \\xc2\\xa0Silber\\t\\r \\xc2\\xa0\\n6595\\...   \n",
       "2  b'Pramod XXXX\\nMobile: +91-99********\\n\\nE-mai...   \n",
       "3  b\"Harry M. Rohrer\\n3748 Bee Street\\nGrand Rapi...   \n",
       "4  b\"Wilson Kunnan Jose\\nSr. Consultant, QA\\n\\nSu...   \n",
       "\n",
       "                                      cleaned_resume  \\\n",
       "0  resume ajitha shenoy kb phd student computer s...   \n",
       "1  masontr xc2xa0silbertr xc2xa0 6595tr xc2xa0ler...   \n",
       "2  pramod xxxx mobile 9199 email pramodgmailcom c...   \n",
       "3  harry m rohrer 3748 bee street grand rapids mi...   \n",
       "4  wilson kunnan jose sr consultant qa summary xe...   \n",
       "\n",
       "                                    tokenized_resume  \\\n",
       "0  [resume, ajitha, shenoy, kb, phd, student, com...   \n",
       "1  [masontr, xc2xa0silbertr, xc2xa0, 6595tr, xc2x...   \n",
       "2  [pramod, xxxx, mobile, 9199, email, pramodgmai...   \n",
       "3  [harry, m, rohrer, 3748, bee, street, grand, r...   \n",
       "4  [wilson, kunnan, jose, sr, consultant, qa, sum...   \n",
       "\n",
       "                                     filtered_tokens  \\\n",
       "0  [resume, ajitha, shenoy, kb, phd, student, com...   \n",
       "1  [masontr, xc2xa0silbertr, xc2xa0, 6595tr, xc2x...   \n",
       "2  [pramod, xxxx, mobile, 9199, email, pramodgmai...   \n",
       "3  [harry, rohrer, 3748, bee, street, grand, rapi...   \n",
       "4  [wilson, kunnan, jose, sr, consultant, qa, sum...   \n",
       "\n",
       "                                    extracted_skills  experience_years  \\\n",
       "0           [java, go, linux, r, c, oracle, windows]                 4   \n",
       "1              [java, go, python, django, r, ios, c]                 0   \n",
       "2  [html, java, go, javascript, css, r, mysql, c,...                 5   \n",
       "3       [html, php, jquery, css, r, mysql, c, agile]                 0   \n",
       "4  [aws, apache, html, php, java, go, gcp, javasc...                13   \n",
       "\n",
       "         education  \n",
       "0       [phd, phd]  \n",
       "1  [Not Mentioned]  \n",
       "2  [Not Mentioned]  \n",
       "3  [Not Mentioned]  \n",
       "4       [bachelor]  "
      ]
     },
     "execution_count": 11,
     "metadata": {},
     "output_type": "execute_result"
    }
   ],
   "source": [
    "final_data.head()"
   ]
  },
  {
   "cell_type": "code",
   "execution_count": 12,
   "metadata": {},
   "outputs": [
    {
     "data": {
      "text/plain": [
       "ID                  463\n",
       "Category            463\n",
       "Resume              463\n",
       "cleaned_resume      463\n",
       "tokenized_resume    463\n",
       "filtered_tokens     463\n",
       "extracted_skills    463\n",
       "experience_years    463\n",
       "education           463\n",
       "dtype: int64"
      ]
     },
     "execution_count": 12,
     "metadata": {},
     "output_type": "execute_result"
    }
   ],
   "source": [
    "final_data.count()"
   ]
  },
  {
   "cell_type": "code",
   "execution_count": 14,
   "metadata": {},
   "outputs": [],
   "source": [
    "final_data.reset_index(drop=True, inplace=True)\n",
    "final_data[\"resume_id\"] = final_data.index  "
   ]
  },
  {
   "cell_type": "code",
   "execution_count": 16,
   "metadata": {},
   "outputs": [],
   "source": [
    "import re\n",
    "\n",
    "indian_cities = [\"Mumbai\", \"Delhi\", \"Bangalore\", \"Hyderabad\", \"Chennai\", \"Kolkata\", \"Pune\", \n",
    "                 \"Ahmedabad\", \"Jaipur\", \"Surat\", \"Lucknow\", \"Kanpur\", \"Nagpur\", \"Indore\", \n",
    "                 \"Bhopal\", \"Patna\", \"Ludhiana\", \"Agra\", \"Nashik\", \"Vadodara\", \"Meerut\",\n",
    "                 \"Varanasi\", \"Raipur\", \"Ranchi\", \"Guwahati\", \"Chandigarh\", \"Coimbatore\"]\n",
    "\n",
    "countries = [\"India\", \"USA\", \"United States\", \"UK\", \"United Kingdom\", \"Canada\", \"Australia\",\n",
    "             \"Germany\", \"France\", \"Singapore\", \"UAE\", \"Dubai\", \"Netherlands\", \"Japan\"]\n",
    "\n",
    "def extract_location(text):\n",
    "    if not isinstance(text, str) or text.lower() in [\"not specified\", \"nan\"]:\n",
    "        return \"Not Specified\"\n",
    "    \n",
    "    for city in indian_cities:\n",
    "        if re.search(rf'\\b{city}\\b', text, re.IGNORECASE):\n",
    "            return city + \", India\"\n",
    "\n",
    "    for country in countries:\n",
    "        if re.search(rf'\\b{country}\\b', text, re.IGNORECASE):\n",
    "            return country\n",
    "\n",
    "    return \"Not Specified\" \n",
    "\n",
    "final_data[\"location\"] = final_data[\"cleaned_resume\"].apply(extract_location)"
   ]
  },
  {
   "cell_type": "code",
   "execution_count": 17,
   "metadata": {},
   "outputs": [
    {
     "data": {
      "text/plain": [
       "array(['Kanpur, India', 'Not Specified', 'Coimbatore, India',\n",
       "       'United States', 'UK', 'Chennai, India', 'India',\n",
       "       'Hyderabad, India', 'USA', 'Bangalore, India', 'Canada',\n",
       "       'Singapore', 'France', 'Mumbai, India', 'Australia',\n",
       "       'Kolkata, India', 'Delhi, India', 'Netherlands', 'Germany',\n",
       "       'Japan', 'Pune, India'], dtype=object)"
      ]
     },
     "execution_count": 17,
     "metadata": {},
     "output_type": "execute_result"
    }
   ],
   "source": [
    "final_data[\"location\"].unique()"
   ]
  },
  {
   "cell_type": "code",
   "execution_count": 18,
   "metadata": {},
   "outputs": [],
   "source": [
    "final_data.to_csv(\"resumes.csv\", index=False)  "
   ]
  }
 ],
 "metadata": {
  "kernelspec": {
   "display_name": "venv",
   "language": "python",
   "name": "python3"
  },
  "language_info": {
   "codemirror_mode": {
    "name": "ipython",
    "version": 3
   },
   "file_extension": ".py",
   "mimetype": "text/x-python",
   "name": "python",
   "nbconvert_exporter": "python",
   "pygments_lexer": "ipython3",
   "version": "3.11.11"
  }
 },
 "nbformat": 4,
 "nbformat_minor": 2
}
